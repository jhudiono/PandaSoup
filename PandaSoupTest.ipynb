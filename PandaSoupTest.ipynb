{
 "cells": [
  {
   "cell_type": "code",
   "execution_count": 41,
   "metadata": {},
   "outputs": [
    {
     "name": "stdout",
     "output_type": "stream",
     "text": [
      "You imported PandaSoup!\n"
     ]
    }
   ],
   "source": [
    "%run ./PandaSoup.ipynb"
   ]
  },
  {
   "cell_type": "markdown",
   "metadata": {},
   "source": [
    "## PandaSoup Test Cases"
   ]
  },
  {
   "cell_type": "code",
   "execution_count": 42,
   "metadata": {
    "scrolled": true
   },
   "outputs": [
    {
     "name": "stdout",
     "output_type": "stream",
     "text": [
      "mkdir: cannot create directory ‘test’: File exists\n",
      "mkdir: cannot create directory ‘test/data’: File exists\n"
     ]
    }
   ],
   "source": [
    "!mkdir test\n",
    "!mkdir test/data"
   ]
  },
  {
   "cell_type": "code",
   "execution_count": 43,
   "metadata": {},
   "outputs": [],
   "source": [
    "def f(soup):\n",
    "    if type(soup) is list:\n",
    "        print(soup)\n",
    "    players = {}\n",
    "    for n, link in enumerate(soup.find_all(href=re.compile('/stats/players'))):\n",
    "        name = link.text\n",
    "        if name != \"players\":\n",
    "            row = link.findParent().findParent()\n",
    "            players[n] = [td.text for td in row.find_all('td')]\n",
    "            players[n][0] = name\n",
    "    return pd.DataFrame(players).T\n",
    "\n",
    "test_params = {\n",
    "    'base' : \"http://fftoday.com/stats/playerstats.php?Season={}&GameWeek={}&PosID={}\",\n",
    "    'param_names' : [\"season\", \"week\", \"position\"],\n",
    "    'request_delay' : 3,\n",
    "    'extract_func': f,\n",
    "}"
   ]
  },
  {
   "cell_type": "markdown",
   "metadata": {},
   "source": [
    "### Test 1: Default behavior"
   ]
  },
  {
   "cell_type": "code",
   "execution_count": 44,
   "metadata": {
    "scrolled": true
   },
   "outputs": [
    {
     "name": "stdout",
     "output_type": "stream",
     "text": [
      "Clear raw data\n",
      "parameter values (2015, 5, 10) --> key (2015, 5, 10)\n",
      "Reading http://fftoday.com/stats/playerstats.php?Season=2015&GameWeek=5&PosID=10\n",
      "parameter values (2016, 6, 10) --> key (2016, 6, 10)\n",
      "Reading http://fftoday.com/stats/playerstats.php?Season=2016&GameWeek=6&PosID=10\n",
      "(2015, 5, 10) yielded 1 rows of data\n",
      "(2016, 6, 10) yielded 1 rows of data\n",
      "Completed extracting data\n",
      "Writing to test/data/15317090177_2015_5_10.csv\n",
      "Writing to test/data/15317090177_2016_6_10.csv\n"
     ]
    },
    {
     "data": {
      "text/plain": [
       "['test/data/15317090177_2015_5_10.csv', 'test/data/15317090177_2016_6_10.csv']"
      ]
     },
     "execution_count": 44,
     "metadata": {},
     "output_type": "execute_result"
    }
   ],
   "source": [
    "twp = PandaSoup(test_params)\n",
    "twp.scrape_all([\n",
    "    (2015, 5, 10), \n",
    "    (2016, 6, 10)\n",
    "], reset=True, verbose=True)\n",
    "twp.make_dataframes(verbose=True)\n",
    "twp.to_csv(verbose=True)"
   ]
  },
  {
   "cell_type": "markdown",
   "metadata": {},
   "source": [
    "### Test 2: Use grouping strategy"
   ]
  },
  {
   "cell_type": "code",
   "execution_count": 45,
   "metadata": {},
   "outputs": [
    {
     "name": "stdout",
     "output_type": "stream",
     "text": [
      "parameter values (2014, 3, 10) --> key (2014, 3)\n",
      "Reading http://fftoday.com/stats/playerstats.php?Season=2014&GameWeek=3&PosID=10\n",
      "parameter values (2015, 10, 10) --> key (2015, 10)\n",
      "Reading http://fftoday.com/stats/playerstats.php?Season=2015&GameWeek=10&PosID=10\n",
      "(2014, 3) yielded 1 rows of data\n",
      "(2015, 10) yielded 1 rows of data\n",
      "Completed extracting data\n",
      "Writing to test/data/15317090300_2014_3.csv\n",
      "Writing to test/data/15317090300_2015_10.csv\n"
     ]
    },
    {
     "data": {
      "text/plain": [
       "['test/data/15317090300_2014_3.csv', 'test/data/15317090300_2015_10.csv']"
      ]
     },
     "execution_count": 45,
     "metadata": {},
     "output_type": "execute_result"
    }
   ],
   "source": [
    "# Grouping strategy\n",
    "test_params_with_group = deepcopy(test_params)\n",
    "test_params_with_group['grouping_strategy'] = ['season', 'week']\n",
    "\n",
    "twp = PandaSoup(test_params_with_group)\n",
    "twp.scrape_all([\n",
    "    (2014, 3, 10), \n",
    "    (2015, 10, 10), \n",
    "], verbose=True)\n",
    "twp.make_dataframes(verbose=True)\n",
    "twp.to_csv(verbose=True)\n"
   ]
  },
  {
   "cell_type": "markdown",
   "metadata": {},
   "source": [
    "### Test 3: Custom CSV path"
   ]
  },
  {
   "cell_type": "code",
   "execution_count": 46,
   "metadata": {
    "scrolled": false
   },
   "outputs": [
    {
     "name": "stdout",
     "output_type": "stream",
     "text": [
      "Raw data: 0 items\n",
      "    keys: dict_keys([])\n",
      "Data: 0 items\n",
      "Default output path: test/data/{}_{}_{}.csv\n",
      "    keys: dict_keys([])\n",
      "Initialized with params: {'base': 'http://fftoday.com/stats/playerstats.php?Season={}&GameWeek={}&PosID={}', 'param_names': ['season', 'week', 'position'], 'request_delay': 3, 'extract_func': <function f at 0x7f33cee33bf8>, 'csv_base': 'test/data/{}_{}_{}.csv'}\n",
      "parameter values (2015, 5, 10) --> key (2015, 5, 10)\n",
      "Reading http://fftoday.com/stats/playerstats.php?Season=2015&GameWeek=5&PosID=10\n",
      "parameter values (2016, 6, 10) --> key (2016, 6, 10)\n",
      "Reading http://fftoday.com/stats/playerstats.php?Season=2016&GameWeek=6&PosID=10\n",
      "(2015, 5, 10) yielded 1 rows of data\n",
      "(2016, 6, 10) yielded 1 rows of data\n",
      "Completed extracting data\n",
      "Writing to test/data/2015_5_10.csv\n",
      "Writing to test/data/2016_6_10.csv\n"
     ]
    },
    {
     "data": {
      "text/plain": [
       "['test/data/2015_5_10.csv', 'test/data/2016_6_10.csv']"
      ]
     },
     "execution_count": 46,
     "metadata": {},
     "output_type": "execute_result"
    }
   ],
   "source": [
    "# TODO: I think this is broken... fix it later\n",
    "test_params_with_csv = deepcopy(test_params)\n",
    "test_params_with_csv['csv_base'] = \"test/data/{}_{}_{}.csv\"\n",
    "\n",
    "twp = PandaSoup(test_params_with_csv)\n",
    "twp.debug_str(2)\n",
    "twp.scrape_all([\n",
    "    (2015, 5, 10), \n",
    "    (2016, 6, 10)\n",
    "], verbose=True)\n",
    "twp.make_dataframes(verbose=True)\n",
    "twp.to_csv(verbose=True)"
   ]
  },
  {
   "cell_type": "markdown",
   "metadata": {},
   "source": [
    "### Test 4: Merging"
   ]
  },
  {
   "cell_type": "code",
   "execution_count": 53,
   "metadata": {},
   "outputs": [
    {
     "name": "stdout",
     "output_type": "stream",
     "text": [
      "parameter values (2015, 1, 10) --> key (2015, 1, 10)\n",
      "Reading http://fftoday.com/stats/playerstats.php?Season=2015&GameWeek=1&PosID=10\n",
      "parameter values (2016, 1, 10) --> key (2016, 1, 10)\n",
      "Reading http://fftoday.com/stats/playerstats.php?Season=2016&GameWeek=1&PosID=10\n",
      "(2015, 1, 10) yielded 1 rows of data\n",
      "(2016, 1, 10) yielded 1 rows of data\n",
      "Completed extracting data\n",
      "parameter values (2015, 1, 10) --> key (2015, 1, 10)\n",
      "Reading http://fftoday.com/stats/playerstats.php?Season=2015&GameWeek=1&PosID=10\n",
      "parameter values (2014, 1, 10) --> key (2014, 1, 10)\n",
      "Reading http://fftoday.com/stats/playerstats.php?Season=2014&GameWeek=1&PosID=10\n",
      "(2015, 1, 10) yielded 1 rows of data\n",
      "(2014, 1, 10) yielded 1 rows of data\n",
      "Completed extracting data\n",
      "36 rows added to (2015, 1, 10)\n",
      "34 rows added to (2014, 1, 10)\n"
     ]
    }
   ],
   "source": [
    "twp = PandaSoup(test_params)\n",
    "twp.scrape_all([\n",
    "    (2015, 1, 10), \n",
    "    (2016, 1, 10)\n",
    "], verbose=True)\n",
    "twp.make_dataframes(verbose=True)\n",
    "\n",
    "twp2 = PandaSoup(test_params)\n",
    "twp2.scrape_all([\n",
    "    (2015, 1, 10), \n",
    "    (2014, 1, 10)\n",
    "], verbose=True)\n",
    "twp2.make_dataframes(verbose=True)\n",
    "\n",
    "twp.merge(twp2, verbose=True)\n",
    "for t in [(2015, 1, 10), (2014, 1, 10), (2016, 1, 10)]:\n",
    "    assert t in twp.data\n",
    "    assert t in twp.raw_data"
   ]
  },
  {
   "cell_type": "code",
   "execution_count": null,
   "metadata": {},
   "outputs": [],
   "source": [
    "# TODO: More test cases"
   ]
  }
 ],
 "metadata": {
  "kernelspec": {
   "display_name": "Python 3",
   "language": "python",
   "name": "python3"
  },
  "language_info": {
   "codemirror_mode": {
    "name": "ipython",
    "version": 3
   },
   "file_extension": ".py",
   "mimetype": "text/x-python",
   "name": "python",
   "nbconvert_exporter": "python",
   "pygments_lexer": "ipython3",
   "version": "3.6.5"
  }
 },
 "nbformat": 4,
 "nbformat_minor": 2
}
